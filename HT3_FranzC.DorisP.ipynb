{
 "cells": [
  {
   "cell_type": "markdown",
   "id": "731aacaa-da90-47f1-833c-3b4c21591458",
   "metadata": {},
   "source": [
    "### Hoja de trabajo 3 : \n",
    "* Franz Schubert Castillo Colocho: 22003738.\n",
    "* Doris Andrea Paz Garcia: 22005266"
   ]
  },
  {
   "cell_type": "markdown",
   "id": "ab70ba7f-2286-4748-812e-781d4d578f95",
   "metadata": {},
   "source": [
    "#### Problema 2:\n",
    "* En la carpeta encontrara adjuntos 21 documentos que tiene 100 fechas en la secuencia dıas-mes-año pero con distinto separador y distinto formato de mes, en algunos casos aparece un numero y en otros el nombre del mes en ingles, por ejemplo: Enero pueden aparecer como 1 o como Jan. Utilice Python y expresiones regulares para encontrar el dıa, mes y año promedio total del los 21 archivos, los resultados deben ser un double"
   ]
  },
  {
   "cell_type": "code",
   "execution_count": 8,
   "id": "ae666255-4ee2-4e81-9a2e-e00db9c0ac8b",
   "metadata": {},
   "outputs": [
    {
     "name": "stdout",
     "output_type": "stream",
     "text": [
      "\u001b[38;5;2m✔ Download and installation successful\u001b[0m\n",
      "You can now load the package via spacy.load('en_core_web_sm')\n"
     ]
    }
   ],
   "source": [
    "#Instalar la versión small en ingles \n",
    "spacy.cli.download(\"en_core_web_sm\")"
   ]
  },
  {
   "cell_type": "code",
   "execution_count": 25,
   "id": "94eecc52-1555-47b2-809c-967d894a7479",
   "metadata": {},
   "outputs": [
    {
     "name": "stdout",
     "output_type": "stream",
     "text": [
      "C:\\Users\\Franz Castillo\\Documents\\Text Mining and Image\\HT3\n"
     ]
    }
   ],
   "source": [
    "#Ruta de los documentos. \n",
    "print(os.getcwd())\n"
   ]
  },
  {
   "cell_type": "code",
   "execution_count": 26,
   "id": "33b85435-b8b2-47c5-aa3c-f54d2ccbda59",
   "metadata": {},
   "outputs": [
    {
     "name": "stdout",
     "output_type": "stream",
     "text": [
      "Día promedio: 18.21172435297786, Mes promedio: 6.0816962893670095, Año promedio: 2017.3838478328655\n"
     ]
    }
   ],
   "source": [
    "import spacy\n",
    "import os\n",
    "\n",
    "# Carga el modelo en inglés de spaCy\n",
    "nlp = spacy.load(\"en_core_web_sm\")\n",
    "\n",
    "# Mapeo de nombres de meses a números\n",
    "month_map = {\n",
    "    'January': 1, 'February': 2, 'March': 3, 'April': 4, 'May': 5, 'June': 6,\n",
    "    'July': 7, 'August': 8, 'September': 9, 'October': 10, 'November': 11, 'December': 12,\n",
    "    'Jan': 1, 'Feb': 2, 'Mar': 3, 'Apr': 4, 'Jun': 6, 'Jul': 7, 'Aug': 8, 'Sep': 9, 'Oct': 10, 'Nov': 11, 'Dec': 12\n",
    "}\n",
    "\n",
    "total_days = 0\n",
    "total_months = 0\n",
    "total_years = 0\n",
    "count = 0\n",
    "\n",
    "# Ruta completa a la carpeta HT3\n",
    "folder_path = 'C:\\\\Users\\\\Franz Castillo\\\\Documents\\\\Text Mining and Image\\\\HT3'\n",
    "\n",
    "# Procesa cada archivo desde D1.txt hasta D21.txt\n",
    "for i in range(1, 22):\n",
    "    filename = f\"D{i}.txt\"\n",
    "    with open(os.path.join(folder_path, filename), 'r') as file:\n",
    "        content = file.read()\n",
    "        doc = nlp(content)\n",
    "        \n",
    "        for ent in doc.ents:\n",
    "            if ent.label_ == \"DATE\":\n",
    "                parts = ent.text.split()\n",
    "                if len(parts) == 1 and ('/' in parts[0] or '.' in parts[0]):  # Formato \"24/02/2019\" o \"24.02.2019\"\n",
    "                    day, month, year = map(int, parts[0].replace('.', '/').split('/'))\n",
    "                elif len(parts) == 3 and '-' in parts[1]:  # Formato \"01-Aug-2018\"\n",
    "                    day = int(parts[0])\n",
    "                    month = month_map.get(parts[1].replace('-', ''), 0)\n",
    "                    year = int(parts[2])\n",
    "                elif len(parts) == 3 and parts[1] in month_map:  # Formato \"24 Feb 2019\"\n",
    "                    day = int(parts[0])\n",
    "                    month = month_map.get(parts[1], 0)\n",
    "                    year = int(parts[2])\n",
    "                else:\n",
    "                    continue  # Ignora otros formatos\n",
    "\n",
    "                if month != 0:  # Solo suma si el mes es válido\n",
    "                    total_days += day\n",
    "                    total_months += month\n",
    "                    total_years += year\n",
    "                    count += 1\n",
    "\n",
    "# Calcular promedios\n",
    "avg_day = total_days / count\n",
    "avg_month = total_months / count\n",
    "avg_year = total_years / count\n",
    "\n",
    "print(f\"Día promedio: {(avg_day)}, Mes promedio: {(avg_month)}, Año promedio: {(avg_year)}\")\n"
   ]
  }
 ],
 "metadata": {
  "kernelspec": {
   "display_name": "Python 3 (ipykernel)",
   "language": "python",
   "name": "python3"
  },
  "language_info": {
   "codemirror_mode": {
    "name": "ipython",
    "version": 3
   },
   "file_extension": ".py",
   "mimetype": "text/x-python",
   "name": "python",
   "nbconvert_exporter": "python",
   "pygments_lexer": "ipython3",
   "version": "3.9.17"
  }
 },
 "nbformat": 4,
 "nbformat_minor": 5
}
